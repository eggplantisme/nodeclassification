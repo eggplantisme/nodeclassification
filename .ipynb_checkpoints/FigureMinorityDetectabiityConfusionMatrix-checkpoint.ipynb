{
 "cells": [
  {
   "cell_type": "code",
   "execution_count": 9,
   "id": "9cacb603",
   "metadata": {},
   "outputs": [
    {
     "name": "stdout",
     "output_type": "stream",
     "text": [
      "The autoreload extension is already loaded. To reload it, use:\n",
      "  %reload_ext autoreload\n"
     ]
    }
   ],
   "source": [
    "import matplotlib.pyplot as plt\n",
    "import matplotlib as mpl\n",
    "import contourpy\n",
    "from matplotlib.colors import LinearSegmentedColormap\n",
    "from matplotlib.ticker import FormatStrFormatter\n",
    "import numpy as np\n",
    "from _FigureJiazeHelper import *\n",
    "from _DetectabilityWithMeta import *\n",
    "from _CommunityDetect import *\n",
    "from EXPERIMENT import get_range_delta\n",
    "from scipy.optimize import linear_sum_assignment\n",
    "\n",
    "%load_ext autoreload\n",
    "%autoreload 2"
   ]
  },
  {
   "cell_type": "code",
   "execution_count": 2,
   "id": "10df7c64",
   "metadata": {},
   "outputs": [],
   "source": [
    "# Matplotlib settings\n",
    "\n",
    "# plt.style.use('seaborn-whitegrid')\n",
    "plt.rc('figure', figsize=(8, 5))\n",
    "plt.rc('font', size=10)\n",
    "plt.rc('font', family='sans-serif')\n",
    "plt.rcParams['font.sans-serif'] = 'verdana'\n",
    "plt.rcParams['lines.linewidth'] = 4\n",
    "plt.rcParams['axes.spines.right'] = False\n",
    "plt.rcParams['axes.spines.top'] = False\n",
    "plt.rcParams['axes.edgecolor'] = basic_line_color\n",
    "plt.rcParams['xtick.color'] = basic_line_color\n",
    "plt.rcParams['ytick.color'] = basic_line_color\n",
    "plt.rcParams['axes.labelsize'] = 10  # 'large'\n",
    "plt.rcParams['lines.markersize'] = 12\n",
    "plt.rcParams['axes.linewidth'] = 0.5\n",
    "\n",
    "# %matplotlib notebook\n",
    "%config InlineBackend.figure_format = 'retina'"
   ]
  },
  {
   "cell_type": "code",
   "execution_count": 14,
   "id": "c06ce2da",
   "metadata": {},
   "outputs": [],
   "source": [
    "def get_confusionmatrix(truePartition, cdPartition, trueNumgroup, cdNumgroup):\n",
    "    confusionMatrix = np.zeros((trueNumgroup, cdNumgroup))\n",
    "    for iTrue in range(trueNumgroup):\n",
    "        trueIndex = np.where(truePartition==iTrue)\n",
    "        for iCD in range(cdNumgroup):\n",
    "            confusionMatrix[iTrue, iCD] = np.size(np.where(cdPartition[trueIndex]==iCD))\n",
    "#     print(confusionMatrix)\n",
    "    true_ind, CD_ind = linear_sum_assignment(confusionMatrix, maximize=True)\n",
    "    print(f'True index is {true_ind}, Community detected index is {CD_ind}')\n",
    "    confusionMatrix[:, np.sort(CD_ind)] = confusionMatrix[:, CD_ind]\n",
    "    return confusionMatrix, CD_ind"
   ]
  },
  {
   "cell_type": "code",
   "execution_count": 13,
   "id": "9cb04f5a",
   "metadata": {},
   "outputs": [
    {
     "name": "stdout",
     "output_type": "stream",
     "text": [
      "Metadata generation done!\n",
      "True Sub Group Number is 6\n",
      "number of groups = 3\n",
      "BH Sub Group Number is 3\n",
      "[[7.300e+01 7.400e+01 6.200e+01]\n",
      " [5.900e+01 6.100e+01 5.800e+01]\n",
      " [6.200e+01 5.700e+01 6.800e+01]\n",
      " [0.000e+00 0.000e+00 1.773e+03]\n",
      " [2.000e+00 1.808e+03 0.000e+00]\n",
      " [1.801e+03 1.000e+00 0.000e+00]]\n",
      "[3 4 5] [2 1 0]\n",
      "[[6.200e+01 7.400e+01 7.300e+01]\n",
      " [5.800e+01 6.100e+01 5.900e+01]\n",
      " [6.800e+01 5.700e+01 6.200e+01]\n",
      " [1.773e+03 0.000e+00 0.000e+00]\n",
      " [0.000e+00 1.808e+03 2.000e+00]\n",
      " [0.000e+00 1.000e+00 1.801e+03]]\n"
     ]
    }
   ],
   "source": [
    "X = 2\n",
    "Z = 3\n",
    "n = X*Z*2000\n",
    "d = 50\n",
    "min_delta, max_delta = get_range_delta(d, n, X, Z)\n",
    "rhos = np.setdiff1d(np.around(np.linspace(0, 1, 51), 2), np.array([]))\n",
    "deltas = np.setdiff1d(np.around(np.linspace(min_delta, max_delta, int((max_delta-min_delta)/0.0005)+1), 5), np.array([0]))\n",
    "rho = 0.1\n",
    "delta = 0.01\n",
    "pin = d / n + delta * (1 - 1 / (X * Z))\n",
    "pout = d / n - delta / (X * Z)\n",
    "pin = 0 if pin < 1e-10 else pin\n",
    "pout = 0 if pout < 1e-10 else pout\n",
    "msbm = SymMetaSBM(n, X, Z, rho, pin, pout)\n",
    "A = msbm.sample()\n",
    "subA, subGroupId = msbm.filter(A, metaId=0)\n",
    "subTrueNumgroup = np.size(np.unique(subGroupId))\n",
    "subBHpartition, subBHNumgroup = CommunityDetect(subA).BetheHessian()\n",
    "print(f'True Sub Group Number is {subTrueNumgroup}')\n",
    "print(f'BH Sub Group Number is {subBHNumgroup}')\n",
    "confusionMatrix = get_confusionmatrix(subGroupId, subBHpartition, subTrueNumgroup, subBHNumgroup)\n",
    "print(confusionMatrix)"
   ]
  },
  {
   "cell_type": "code",
   "execution_count": null,
   "id": "cecb2c78",
   "metadata": {},
   "outputs": [],
   "source": []
  }
 ],
 "metadata": {
  "kernelspec": {
   "display_name": "network",
   "language": "python",
   "name": "network"
  },
  "language_info": {
   "codemirror_mode": {
    "name": "ipython",
    "version": 3
   },
   "file_extension": ".py",
   "mimetype": "text/x-python",
   "name": "python",
   "nbconvert_exporter": "python",
   "pygments_lexer": "ipython3",
   "version": "3.11.0"
  }
 },
 "nbformat": 4,
 "nbformat_minor": 5
}
