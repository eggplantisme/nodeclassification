{
 "cells": [
  {
   "cell_type": "code",
   "execution_count": 1,
   "id": "6644f34c",
   "metadata": {},
   "outputs": [],
   "source": [
    "from EXPERIMENT_HYPER_EMPIRICAL import *\n",
    "from _FigureJiazeHelper import *\n",
    "import matplotlib.pyplot as plt\n",
    "from matplotlib.patches import Ellipse, Circle\n",
    "import matplotlib.colors as colors\n",
    "from scipy.sparse.linalg import eigs, eigsh\n",
    "from scipy.linalg import eig\n",
    "from _HyperCommunityDetection import *\n",
    "import warnings\n",
    "import pandas\n",
    "warnings.filterwarnings('ignore', category=FutureWarning)\n",
    "\n",
    "%load_ext autoreload\n",
    "%autoreload 2"
   ]
  },
  {
   "cell_type": "code",
   "execution_count": 9,
   "id": "e5a54083",
   "metadata": {},
   "outputs": [],
   "source": [
    "# Matplotlib settings\n",
    "\n",
    "# plt.style.use('seaborn-whitegrid')\n",
    "plt.rc('figure', figsize=(8, 5))\n",
    "plt.rc('font', size=16)\n",
    "plt.rc('font', family='sans-serif')\n",
    "plt.rcParams['font.sans-serif'] = 'verdana'\n",
    "plt.rcParams['lines.linewidth'] = 4\n",
    "plt.rcParams['axes.spines.right'] = False\n",
    "plt.rcParams['axes.spines.top'] = False\n",
    "plt.rcParams['axes.edgecolor'] = basic_line_color\n",
    "plt.rcParams['xtick.color'] = basic_line_color\n",
    "plt.rcParams['ytick.color'] = basic_line_color\n",
    "plt.rcParams['axes.labelsize'] = 'large'\n",
    "plt.rcParams['lines.markersize'] = 12\n",
    "\n",
    "%config InlineBackend.figure_format = 'retina'"
   ]
  },
  {
   "cell_type": "code",
   "execution_count": null,
   "id": "ab446129",
   "metadata": {},
   "outputs": [],
   "source": [
    "def truncate_colormap(cmap, minval=0.0, maxval=1.0, n=100):\n",
    "    new_cmap = colors.LinearSegmentedColormap.from_list(\n",
    "        'trunc({n},{a:.2f},{b:.2f})'.format(n=cmap.name, a=minval, b=maxval),\n",
    "        cmap(np.linspace(minval, maxval, n)))\n",
    "    return new_cmap"
   ]
  },
  {
   "cell_type": "code",
   "execution_count": null,
   "id": "e5475f98",
   "metadata": {},
   "outputs": [],
   "source": [
    "def plot_cm(confusionMatrix, fig=None, ax=None):\n",
    "    subTrueNumgroup,subBHNumgroup = np.shape(confusionMatrix)\n",
    "    rowsum = np.sum(confusionMatrix, axis=1)\n",
    "    rowsum = rowsum.reshape(-1, 1)\n",
    "    rowsum = np.repeat(rowsum, subBHNumgroup, axis=1)\n",
    "    normConfusionMatrix = np.round(confusionMatrix / rowsum, 2)\n",
    "    if fig is None and ax is None:\n",
    "        fig = plt.figure(figsize=(3, 3))\n",
    "        widths = [4]\n",
    "        heights = [4]\n",
    "        spec5 = fig.add_gridspec(ncols=1, nrows=1, width_ratios=widths, height_ratios=heights)\n",
    "        row = 0\n",
    "        col = 0\n",
    "        ax = fig.add_subplot(spec5[row, col])\n",
    "#     cmap = mpl.colormaps[\"bwr_r\"]\n",
    "#     cmap = mpl.colormaps[\"RdYlBu\"]\n",
    "    cmap = mpl.colormaps[\"seismic_r\"]\n",
    "    cmap = truncate_colormap(cmap, 0.3, 0.7)\n",
    "    im = ax.matshow(normConfusionMatrix, cmap=cmap, vmin=0, vmax=1)\n",
    "    for i in range(subTrueNumgroup):\n",
    "        for j in range(subBHNumgroup):\n",
    "            c = normConfusionMatrix[i,j]\n",
    "            ax.text(j, i, str(c), va='center', ha='center', fontsize=1)\n",
    "#     ax.set_title(rf\"$\\rho={rho}, \\delta={delta}$\", fontsize=12)\n",
    "    # ax.set_ylabel(\"True Community\", rotation='horizontal', fontsize=20)\n",
    "    plt.xticks(fontsize=10)\n",
    "    plt.yticks(fontsize=10)\n",
    "    return im"
   ]
  },
  {
   "cell_type": "code",
   "execution_count": 5,
   "id": "0c6a92ed",
   "metadata": {},
   "outputs": [],
   "source": [
    "def visualMetaCM(partition, meta):\n",
    "    partition_num = np.size(np.unique(partition))\n",
    "    meta_num = np.size(np.unique(meta))\n",
    "#     cm, meta_index = get_confusionmatrix(partition, meta, partition_num, meta_num)\n",
    "    cm = np.zeros((partition_num, meta_num))\n",
    "    uniquePartition = np.unique(partition)\n",
    "    uniqueMeta = np.unique(meta)\n",
    "    for iP in uniquePartition:\n",
    "        trueIndex = np.where(partition == iP)[0]\n",
    "#         print(type(trueIndex))\n",
    "        for iM in uniqueMeta:\n",
    "            i = np.where(uniquePartition == iP)\n",
    "            j = np.where(uniqueMeta == iM)\n",
    "            cm[i, j] = np.size(np.where(meta[trueIndex]==iM))\n",
    "#     print(confusionMatrix)\n",
    "#     partition_ind, meta_ind = linear_sum_assignment(cm, maximize=True)\n",
    "#     print(f'True index is {partition_ind}, Community detected index is {meta_ind}')\n",
    "    df = pandas.DataFrame(cm, uniquePartition, uniqueMeta)\n",
    "#     cm[:, np.sort(meta_ind)] = cm[:, meta_ind]\n",
    "    return cm, df"
   ]
  },
  {
   "cell_type": "code",
   "execution_count": 6,
   "id": "89e5ff7c",
   "metadata": {},
   "outputs": [
    {
     "name": "stdout",
     "output_type": "stream",
     "text": [
      "number of partition 615, number of meta 27\n"
     ]
    }
   ],
   "source": [
    "name = 'yelp'\n",
    "partition = None\n",
    "with open('./result/hyperEmpirical/yelp_BHPartition.pkl', 'rb') as fr:\n",
    "    partition = pickle.load(fr)\n",
    "meta = []\n",
    "with open('./net_data/yelp/yelp_data.pkl', 'rb') as fr:\n",
    "    yelp_data = pickle.load(fr)\n",
    "    for i in range(yelp_data['n']):\n",
    "        meta.append(yelp_data['meta'][i]['state'])\n",
    "meta = np.array(meta)\n",
    "cm, df = visualMetaCM(partition, meta)\n",
    "print(f'number of partition {np.size(np.unique(partition))}, number of meta {np.size(np.unique(meta))}')\n",
    "path = f'./result/hyperEmpirical/{name}_cm.xlsx'\n",
    "with pandas.ExcelWriter(path) as writer:\n",
    "    df.to_excel(excel_writer=writer)\n",
    "    writer.save()\n",
    "\n",
    "# fig = plt.figure(figsize=(8, 180))\n",
    "# widths = [4]\n",
    "# heights = [4]\n",
    "# spec5 = fig.add_gridspec(ncols=1, nrows=1, width_ratios=widths, height_ratios=heights)\n",
    "# row = 0\n",
    "# col = 0\n",
    "# ax = fig.add_subplot(spec5[row, col])\n",
    "# plot_cm(cm, fig=fig, ax=ax)"
   ]
  },
  {
   "cell_type": "code",
   "execution_count": 9,
   "id": "e3f9a53e",
   "metadata": {},
   "outputs": [
    {
     "name": "stdout",
     "output_type": "stream",
     "text": [
      "number of partition 22, number of meta 10\n"
     ]
    }
   ],
   "source": [
    "name = 'enron'\n",
    "partition = None\n",
    "with open('./result/hyperEmpirical/enron_BHPartition.pkl', 'rb') as fr:\n",
    "    partition = pickle.load(fr)\n",
    "meta = []\n",
    "with open('./net_data/enron/enron_data.pkl', 'rb') as fr:\n",
    "    enron_data = pickle.load(fr)\n",
    "    for i in range(enron_data['n']):\n",
    "        if enron_data['meta'][i] is None or enron_data['meta'][i][0] == 'N/A':\n",
    "            meta.append('None')\n",
    "        else:\n",
    "            meta.append(enron_data['meta'][i][0])\n",
    "meta = np.array(meta)\n",
    "cm, df = visualMetaCM(partition, meta)\n",
    "print(f'number of partition {np.size(np.unique(partition))}, number of meta {np.size(np.unique(meta))}')\n",
    "path = f'./result/hyperEmpirical/{name}_cm.xlsx'\n",
    "with pandas.ExcelWriter(path) as writer:\n",
    "    df.to_excel(excel_writer=writer)\n",
    "    writer.save()"
   ]
  },
  {
   "cell_type": "code",
   "execution_count": 7,
   "id": "b3891857-1757-443d-819b-3f2e3e2d26f9",
   "metadata": {},
   "outputs": [
    {
     "name": "stdout",
     "output_type": "stream",
     "text": [
      "number of partition 14, number of meta 10\n"
     ]
    }
   ],
   "source": [
    "name = 'enron'\n",
    "givenNumGroup = None\n",
    "only_assortative = True\n",
    "partition_path = f'./result/hyperEmpirical/{name}_BHPartition' \\\n",
    "                f'{f\"_given{givenNumGroup}Groups\" if givenNumGroup is not None else \"\"}' \\\n",
    "                f'{f\"_assort\" if only_assortative else \"\"}.pkl'\n",
    "partition = None\n",
    "with open(partition_path, 'rb') as fr:\n",
    "    partition = pickle.load(fr)\n",
    "meta = []\n",
    "with open('./net_data/enron/enron_data.pkl', 'rb') as fr:\n",
    "    enron_data = pickle.load(fr)\n",
    "    for i in range(enron_data['n']):\n",
    "        if enron_data['meta'][i] is None or enron_data['meta'][i][0] == 'N/A':\n",
    "            meta.append('None')\n",
    "        else:\n",
    "            meta.append(enron_data['meta'][i][0])\n",
    "meta = np.array(meta)\n",
    "cm, df = visualMetaCM(partition, meta)\n",
    "print(f'number of partition {np.size(np.unique(partition))}, number of meta {np.size(np.unique(meta))}')\n",
    "path = f'./result/hyperEmpirical/{name}_cm' \\\n",
    "        f'{f\"_given{givenNumGroup}Groups\" if givenNumGroup is not None else \"\"}' \\\n",
    "        f'{f\"_assort\" if only_assortative else \"\"}.xlsx'\n",
    "with pandas.ExcelWriter(path) as writer:\n",
    "    df.to_excel(excel_writer=writer)\n",
    "    writer.save()"
   ]
  },
  {
   "cell_type": "code",
   "execution_count": 11,
   "id": "d1ff6ef2",
   "metadata": {},
   "outputs": [
    {
     "name": "stdout",
     "output_type": "stream",
     "text": [
      "number of partition 9, number of meta 9\n"
     ]
    }
   ],
   "source": [
    "name = 'highschool'\n",
    "givenNumGroup = 9\n",
    "only_assortative = False\n",
    "partition_path = f'./result/hyperEmpirical/{name}_BHPartition' \\\n",
    "                f'{f\"_given{givenNumGroup}Groups\" if givenNumGroup is not None else \"\"}' \\\n",
    "                f'{f\"_assort\" if only_assortative else \"\"}.pkl'\n",
    "partition = None\n",
    "with open(partition_path, 'rb') as fr:\n",
    "    partition = pickle.load(fr)\n",
    "meta = []\n",
    "with open('./net_data/contact-high-school/highschool_data.pkl', 'rb') as fr:\n",
    "    _data = pickle.load(fr)\n",
    "    for i in range(_data['n']):\n",
    "        meta.append(_data['meta'][i])\n",
    "meta = np.array(meta)\n",
    "cm, df = visualMetaCM(partition, meta)\n",
    "print(f'number of partition {np.size(np.unique(partition))}, number of meta {np.size(np.unique(meta))}')\n",
    "path = f'./result/hyperEmpirical/{name}_cm' \\\n",
    "        f'{f\"_given{givenNumGroup}Groups\" if givenNumGroup is not None else \"\"}' \\\n",
    "        f'{f\"_assort\" if only_assortative else \"\"}.xlsx'\n",
    "\n",
    "with pandas.ExcelWriter(path) as writer:\n",
    "    df.to_excel(excel_writer=writer)\n",
    "    writer.save()"
   ]
  },
  {
   "cell_type": "code",
   "execution_count": 14,
   "id": "5268c762",
   "metadata": {},
   "outputs": [
    {
     "name": "stdout",
     "output_type": "stream",
     "text": [
      "number of partition 9, number of meta 9\n"
     ]
    }
   ],
   "source": [
    "name = 'highschool'\n",
    "givenNumGroup = 9\n",
    "only_assortative = True\n",
    "partition_path = f'./result/hyperEmpirical/{name}_BHPartition' \\\n",
    "                f'{f\"_given{givenNumGroup}Groups\" if givenNumGroup is not None else \"\"}' \\\n",
    "                f'{f\"_assort\" if only_assortative else \"\"}.pkl'\n",
    "partition = None\n",
    "with open(partition_path, 'rb') as fr:\n",
    "    partition = pickle.load(fr)\n",
    "meta = []\n",
    "with open('./net_data/contact-high-school/highschool_data.pkl', 'rb') as fr:\n",
    "    _data = pickle.load(fr)\n",
    "    for i in range(_data['n']):\n",
    "        meta.append(_data['meta'][i])\n",
    "meta = np.array(meta)\n",
    "cm, df = visualMetaCM(partition, meta)\n",
    "print(f'number of partition {np.size(np.unique(partition))}, number of meta {np.size(np.unique(meta))}')\n",
    "path = f'./result/hyperEmpirical/{name}_cm' \\\n",
    "        f'{f\"_given{givenNumGroup}Groups\" if givenNumGroup is not None else \"\"}' \\\n",
    "        f'{f\"_assort\" if only_assortative else \"\"}.xlsx'\n",
    "\n",
    "with pandas.ExcelWriter(path) as writer:\n",
    "    df.to_excel(excel_writer=writer)\n",
    "    writer.save()"
   ]
  },
  {
   "cell_type": "code",
   "execution_count": 12,
   "id": "20107f3f",
   "metadata": {},
   "outputs": [
    {
     "name": "stdout",
     "output_type": "stream",
     "text": [
      "number of partition 10, number of meta 11\n"
     ]
    }
   ],
   "source": [
    "name = 'primary'\n",
    "givenNumGroup = 10\n",
    "only_assortative = False\n",
    "partition_path = f'./result/hyperEmpirical/{name}_BHPartition' \\\n",
    "                f'{f\"_given{givenNumGroup}Groups\" if givenNumGroup is not None else \"\"}' \\\n",
    "                f'{f\"_assort\" if only_assortative else \"\"}.pkl'\n",
    "partition = None\n",
    "with open(partition_path, 'rb') as fr:\n",
    "    partition = pickle.load(fr)\n",
    "meta = []\n",
    "with open('./net_data/contact-primary-school/primary_data.pkl', 'rb') as fr:\n",
    "    _data = pickle.load(fr)\n",
    "    for i in range(_data['n']):\n",
    "        meta.append(_data['meta'][i])\n",
    "meta = np.array(meta)\n",
    "cm, df = visualMetaCM(partition, meta)\n",
    "print(f'number of partition {np.size(np.unique(partition))}, number of meta {np.size(np.unique(meta))}')\n",
    "path = f'./result/hyperEmpirical/{name}_cm' \\\n",
    "        f'{f\"_given{givenNumGroup}Groups\" if givenNumGroup is not None else \"\"}' \\\n",
    "        f'{f\"_assort\" if only_assortative else \"\"}.xlsx'\n",
    "\n",
    "with pandas.ExcelWriter(path) as writer:\n",
    "    df.to_excel(excel_writer=writer)\n",
    "    writer.save()"
   ]
  },
  {
   "cell_type": "code",
   "execution_count": null,
   "id": "d0b0bb86",
   "metadata": {},
   "outputs": [],
   "source": []
  }
 ],
 "metadata": {
  "kernelspec": {
   "display_name": "network",
   "language": "python",
   "name": "network"
  },
  "language_info": {
   "codemirror_mode": {
    "name": "ipython",
    "version": 3
   },
   "file_extension": ".py",
   "mimetype": "text/x-python",
   "name": "python",
   "nbconvert_exporter": "python",
   "pygments_lexer": "ipython3",
   "version": "3.11.0"
  }
 },
 "nbformat": 4,
 "nbformat_minor": 5
}
